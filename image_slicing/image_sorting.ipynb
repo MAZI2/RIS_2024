{
 "cells": [
  {
   "cell_type": "code",
   "execution_count": 5,
   "metadata": {},
   "outputs": [],
   "source": [
    "# open folder data/combined and read all image filenames, the sort\n",
    "# if image filename ends with 1 or with 0\n",
    "\n",
    "import os\n",
    "import re\n",
    "\n",
    "def get_image_filenames():\n",
    "    image_filenames = []\n",
    "    for root, dirs, files in os.walk('data/combined'):\n",
    "        for file in files:\n",
    "            if file.endswith('.png'):\n",
    "                image_filenames.append(file)\n",
    "    return image_filenames\n",
    "\n",
    "def sort_image_filenames(image_filenames):\n",
    "    image_filenames_1 = []\n",
    "    image_filenames_0 = []\n",
    "    for image_filename in image_filenames:\n",
    "        if image_filename.endswith('1.png'):\n",
    "            image_filenames_1.append(image_filename)\n",
    "        elif image_filename.endswith('0.png'):\n",
    "            image_filenames_0.append(image_filename)\n",
    "    return image_filenames_1, image_filenames_0\n",
    "\n",
    "# create a copy of all images with filename ending with 0 to folder data/negative and \n",
    "# ending with 1 to folder data/positive\n",
    "\n",
    "def move_images(image_filenames_1, image_filenames_0):\n",
    "    for image_filename in image_filenames_1:\n",
    "        os.system('cp data/combined/' + image_filename + ' data/positive')\n",
    "    for image_filename in image_filenames_0:\n",
    "        os.system('cp data/combined/' + image_filename + ' data/negative')\n",
    "\n",
    "\n",
    "\n",
    "# execute\n",
    "image_filenames = get_image_filenames()\n",
    "image_filenames_1, image_filenames_0 = sort_image_filenames(image_filenames)\n",
    "move_images(image_filenames_1, image_filenames_0)\n",
    "\n"
   ]
  },
  {
   "cell_type": "code",
   "execution_count": 10,
   "metadata": {},
   "outputs": [],
   "source": [
    "# copy 70% of images from data/positive to data/train/positive and\n",
    "# 20% of images from data/positive to data/validation/positive and\n",
    "# 10% of images from data/positive to data/test/positive\n",
    "# and all the same for negative\n",
    "\n",
    "def split_images_positive(image_filenames):\n",
    "    for i in range(int(len(image_filenames)*0.7)):\n",
    "        os.system('cp data/positive/' + image_filenames[i] + ' ' + 'data/train' + '/positive')\n",
    "    for i in range(int(len(image_filenames)*0.7), int(len(image_filenames)*0.9)):\n",
    "        os.system('cp data/positive/' + image_filenames[i] + ' ' + 'data/validation' + '/positive')\n",
    "    for i in range(int(len(image_filenames)*0.9), len(image_filenames)):\n",
    "        os.system('cp data/positive/' + image_filenames[i] + ' ' + 'data/test' + '/positive')\n",
    "\n",
    "def split_images_negative(image_filenames):\n",
    "    for i in range(int(len(image_filenames)*0.7)):\n",
    "        os.system('cp data/negative/' + image_filenames[i] + ' ' + 'data/train' + '/negative')\n",
    "    for i in range(int(len(image_filenames)*0.7), int(len(image_filenames)*0.9)):\n",
    "        os.system('cp data/negative/' + image_filenames[i] + ' ' + 'data/validation' + '/negative')\n",
    "    for i in range(int(len(image_filenames)*0.9), len(image_filenames)):\n",
    "        os.system('cp data/negative/' + image_filenames[i] + ' ' + 'data/test' + '/negative')\n",
    "\n",
    "\n",
    "# execute\n",
    "split_images_negative(image_filenames_0)\n",
    "split_images_positive(image_filenames_1)\n"
   ]
  }
 ],
 "metadata": {
  "kernelspec": {
   "display_name": "mypython",
   "language": "python",
   "name": "python3"
  },
  "language_info": {
   "codemirror_mode": {
    "name": "ipython",
    "version": 3
   },
   "file_extension": ".py",
   "mimetype": "text/x-python",
   "name": "python",
   "nbconvert_exporter": "python",
   "pygments_lexer": "ipython3",
   "version": "3.9.19"
  }
 },
 "nbformat": 4,
 "nbformat_minor": 2
}
