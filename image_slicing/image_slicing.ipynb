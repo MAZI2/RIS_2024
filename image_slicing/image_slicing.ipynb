{
 "cells": [
  {
   "cell_type": "code",
   "execution_count": 41,
   "id": "c9803adf-0464-4a51-b56e-2b04b6e07f27",
   "metadata": {},
   "outputs": [
    {
     "name": "stdout",
     "output_type": "stream",
     "text": [
      "Requirement already satisfied: nibabel in /opt/homebrew/anaconda3/lib/python3.11/site-packages (5.2.1)\n",
      "Requirement already satisfied: scipy in /opt/homebrew/anaconda3/lib/python3.11/site-packages (1.11.4)\n",
      "Requirement already satisfied: numpy in /opt/homebrew/anaconda3/lib/python3.11/site-packages (1.26.4)\n",
      "Requirement already satisfied: tensorflow in /opt/homebrew/anaconda3/lib/python3.11/site-packages (2.16.1)\n",
      "Requirement already satisfied: keras in /opt/homebrew/anaconda3/lib/python3.11/site-packages (3.1.1)\n",
      "Requirement already satisfied: matplotlib in /opt/homebrew/anaconda3/lib/python3.11/site-packages (3.8.0)\n",
      "Requirement already satisfied: opencv-python in /opt/homebrew/anaconda3/lib/python3.11/site-packages (4.9.0.80)\n",
      "Requirement already satisfied: packaging>=17 in /opt/homebrew/anaconda3/lib/python3.11/site-packages (from nibabel) (23.1)\n",
      "Requirement already satisfied: absl-py>=1.0.0 in /opt/homebrew/anaconda3/lib/python3.11/site-packages (from tensorflow) (2.1.0)\n",
      "Requirement already satisfied: astunparse>=1.6.0 in /opt/homebrew/anaconda3/lib/python3.11/site-packages (from tensorflow) (1.6.3)\n",
      "Requirement already satisfied: flatbuffers>=23.5.26 in /opt/homebrew/anaconda3/lib/python3.11/site-packages (from tensorflow) (24.3.7)\n",
      "Requirement already satisfied: gast!=0.5.0,!=0.5.1,!=0.5.2,>=0.2.1 in /opt/homebrew/anaconda3/lib/python3.11/site-packages (from tensorflow) (0.5.4)\n",
      "Requirement already satisfied: google-pasta>=0.1.1 in /opt/homebrew/anaconda3/lib/python3.11/site-packages (from tensorflow) (0.2.0)\n",
      "Requirement already satisfied: h5py>=3.10.0 in /opt/homebrew/anaconda3/lib/python3.11/site-packages (from tensorflow) (3.10.0)\n",
      "Requirement already satisfied: libclang>=13.0.0 in /opt/homebrew/anaconda3/lib/python3.11/site-packages (from tensorflow) (18.1.1)\n",
      "Requirement already satisfied: ml-dtypes~=0.3.1 in /opt/homebrew/anaconda3/lib/python3.11/site-packages (from tensorflow) (0.3.2)\n",
      "Requirement already satisfied: opt-einsum>=2.3.2 in /opt/homebrew/anaconda3/lib/python3.11/site-packages (from tensorflow) (3.3.0)\n",
      "Requirement already satisfied: protobuf!=4.21.0,!=4.21.1,!=4.21.2,!=4.21.3,!=4.21.4,!=4.21.5,<5.0.0dev,>=3.20.3 in /opt/homebrew/anaconda3/lib/python3.11/site-packages (from tensorflow) (3.20.3)\n",
      "Requirement already satisfied: requests<3,>=2.21.0 in /opt/homebrew/anaconda3/lib/python3.11/site-packages (from tensorflow) (2.31.0)\n",
      "Requirement already satisfied: setuptools in /opt/homebrew/anaconda3/lib/python3.11/site-packages (from tensorflow) (68.2.2)\n",
      "Requirement already satisfied: six>=1.12.0 in /opt/homebrew/anaconda3/lib/python3.11/site-packages (from tensorflow) (1.16.0)\n",
      "Requirement already satisfied: termcolor>=1.1.0 in /opt/homebrew/anaconda3/lib/python3.11/site-packages (from tensorflow) (2.4.0)\n",
      "Requirement already satisfied: typing-extensions>=3.6.6 in /opt/homebrew/anaconda3/lib/python3.11/site-packages (from tensorflow) (4.9.0)\n",
      "Requirement already satisfied: wrapt>=1.11.0 in /opt/homebrew/anaconda3/lib/python3.11/site-packages (from tensorflow) (1.14.1)\n",
      "Requirement already satisfied: grpcio<2.0,>=1.24.3 in /opt/homebrew/anaconda3/lib/python3.11/site-packages (from tensorflow) (1.62.1)\n",
      "Requirement already satisfied: tensorboard<2.17,>=2.16 in /opt/homebrew/anaconda3/lib/python3.11/site-packages (from tensorflow) (2.16.2)\n",
      "Requirement already satisfied: tensorflow-io-gcs-filesystem>=0.23.1 in /opt/homebrew/anaconda3/lib/python3.11/site-packages (from tensorflow) (0.36.0)\n",
      "Requirement already satisfied: rich in /opt/homebrew/anaconda3/lib/python3.11/site-packages (from keras) (13.3.5)\n",
      "Requirement already satisfied: namex in /opt/homebrew/anaconda3/lib/python3.11/site-packages (from keras) (0.0.7)\n",
      "Requirement already satisfied: optree in /opt/homebrew/anaconda3/lib/python3.11/site-packages (from keras) (0.10.0)\n",
      "Requirement already satisfied: contourpy>=1.0.1 in /opt/homebrew/anaconda3/lib/python3.11/site-packages (from matplotlib) (1.2.0)\n",
      "Requirement already satisfied: cycler>=0.10 in /opt/homebrew/anaconda3/lib/python3.11/site-packages (from matplotlib) (0.11.0)\n",
      "Requirement already satisfied: fonttools>=4.22.0 in /opt/homebrew/anaconda3/lib/python3.11/site-packages (from matplotlib) (4.25.0)\n",
      "Requirement already satisfied: kiwisolver>=1.0.1 in /opt/homebrew/anaconda3/lib/python3.11/site-packages (from matplotlib) (1.4.4)\n",
      "Requirement already satisfied: pillow>=6.2.0 in /opt/homebrew/anaconda3/lib/python3.11/site-packages (from matplotlib) (10.2.0)\n",
      "Requirement already satisfied: pyparsing>=2.3.1 in /opt/homebrew/anaconda3/lib/python3.11/site-packages (from matplotlib) (3.0.9)\n",
      "Requirement already satisfied: python-dateutil>=2.7 in /opt/homebrew/anaconda3/lib/python3.11/site-packages (from matplotlib) (2.8.2)\n",
      "Requirement already satisfied: wheel<1.0,>=0.23.0 in /opt/homebrew/anaconda3/lib/python3.11/site-packages (from astunparse>=1.6.0->tensorflow) (0.41.2)\n",
      "Requirement already satisfied: charset-normalizer<4,>=2 in /opt/homebrew/anaconda3/lib/python3.11/site-packages (from requests<3,>=2.21.0->tensorflow) (2.0.4)\n",
      "Requirement already satisfied: idna<4,>=2.5 in /opt/homebrew/anaconda3/lib/python3.11/site-packages (from requests<3,>=2.21.0->tensorflow) (3.4)\n",
      "Requirement already satisfied: urllib3<3,>=1.21.1 in /opt/homebrew/anaconda3/lib/python3.11/site-packages (from requests<3,>=2.21.0->tensorflow) (2.0.7)\n",
      "Requirement already satisfied: certifi>=2017.4.17 in /opt/homebrew/anaconda3/lib/python3.11/site-packages (from requests<3,>=2.21.0->tensorflow) (2024.2.2)\n",
      "Requirement already satisfied: markdown>=2.6.8 in /opt/homebrew/anaconda3/lib/python3.11/site-packages (from tensorboard<2.17,>=2.16->tensorflow) (3.4.1)\n",
      "Requirement already satisfied: tensorboard-data-server<0.8.0,>=0.7.0 in /opt/homebrew/anaconda3/lib/python3.11/site-packages (from tensorboard<2.17,>=2.16->tensorflow) (0.7.2)\n",
      "Requirement already satisfied: werkzeug>=1.0.1 in /opt/homebrew/anaconda3/lib/python3.11/site-packages (from tensorboard<2.17,>=2.16->tensorflow) (2.2.3)\n",
      "Requirement already satisfied: markdown-it-py<3.0.0,>=2.2.0 in /opt/homebrew/anaconda3/lib/python3.11/site-packages (from rich->keras) (2.2.0)\n",
      "Requirement already satisfied: pygments<3.0.0,>=2.13.0 in /opt/homebrew/anaconda3/lib/python3.11/site-packages (from rich->keras) (2.15.1)\n",
      "Requirement already satisfied: mdurl~=0.1 in /opt/homebrew/anaconda3/lib/python3.11/site-packages (from markdown-it-py<3.0.0,>=2.2.0->rich->keras) (0.1.0)\n",
      "Requirement already satisfied: MarkupSafe>=2.1.1 in /opt/homebrew/anaconda3/lib/python3.11/site-packages (from werkzeug>=1.0.1->tensorboard<2.17,>=2.16->tensorflow) (2.1.3)\n"
     ]
    }
   ],
   "source": [
    "!pip install nibabel scipy numpy tensorflow keras matplotlib opencv-python"
   ]
  },
  {
   "cell_type": "code",
   "execution_count": 1,
   "id": "51f57462-3aa0-4caf-8976-b828430764dc",
   "metadata": {},
   "outputs": [
    {
     "name": "stderr",
     "output_type": "stream",
     "text": [
      "2024-03-25 22:15:55.075695: I tensorflow/core/platform/cpu_feature_guard.cc:210] This TensorFlow binary is optimized to use available CPU instructions in performance-critical operations.\n",
      "To enable the following instructions: AVX2 FMA, in other operations, rebuild TensorFlow with the appropriate compiler flags.\n"
     ]
    }
   ],
   "source": [
    "import os\n",
    "import zipfile\n",
    "import numpy as np\n",
    "import tensorflow as tf  # for data preprocessing\n",
    "import nibabel as nib\n",
    "from scipy import ndimage\n",
    "\n",
    "import keras\n",
    "from keras import layers"
   ]
  },
  {
   "cell_type": "code",
   "execution_count": 2,
   "id": "29f2c9ee-60c4-4daf-b697-affff92dda86",
   "metadata": {},
   "outputs": [],
   "source": [
    "def read_nifti_file(filepath):\n",
    "    \"\"\"Read and load volume\"\"\"\n",
    "    # Read file\n",
    "    scan = nib.load(filepath)\n",
    "    # Get raw data\n",
    "    scan = scan.get_fdata()\n",
    "    return scan\n",
    "\n",
    "\n",
    "def normalize(volume):\n",
    "    \"\"\"Normalize the volume\"\"\"\n",
    "    min = -1000\n",
    "    max = 400\n",
    "    volume[volume < min] = min\n",
    "    volume[volume > max] = max\n",
    "    volume = (volume - min) / (max - min)\n",
    "    volume = volume.astype(\"float32\")\n",
    "    return volume\n",
    "\n",
    "\n",
    "def resize_volume(img):\n",
    "    \"\"\"Resize across z-axis\"\"\"\n",
    "    # Set the desired depth\n",
    "    desired_depth = 250\n",
    "    desired_width = 350\n",
    "    desired_height = 350\n",
    "    # Get current depth\n",
    "    current_depth = img.shape[-1]\n",
    "    current_width = img.shape[0]\n",
    "    current_height = img.shape[1]\n",
    "    # Compute depth factor\n",
    "    depth = current_depth / desired_depth\n",
    "    width = current_width / desired_width\n",
    "    height = current_height / desired_height\n",
    "    depth_factor = 1 / depth\n",
    "    width_factor = 1 / width\n",
    "    height_factor = 1 / height\n",
    "    # Rotate\n",
    "    #img = ndimage.rotate(img, 90, reshape=False)\n",
    "    # Resize across z-axis\n",
    "    img = ndimage.zoom(img, (width_factor, height_factor, depth_factor), order=1)\n",
    "    return img\n",
    "\n",
    "\n",
    "def process_scan(path):\n",
    "    \"\"\"Read and resize volume\"\"\"\n",
    "    # Read scan\n",
    "    volume = read_nifti_file(path)\n",
    "    # Normalize\n",
    "    volume = normalize(volume)\n",
    "    # Resize width, height and depth\n",
    "    volume = resize_volume(volume)\n",
    "    return volume"
   ]
  },
  {
   "cell_type": "markdown",
   "id": "505f7ec6-7ef5-4c76-b2b8-5bb122884061",
   "metadata": {},
   "source": [
    "Reading datasets"
   ]
  },
  {
   "cell_type": "code",
   "execution_count": 3,
   "id": "3b9cf253-e1cb-4310-89cf-ae29c71d63d9",
   "metadata": {},
   "outputs": [
    {
     "name": "stdout",
     "output_type": "stream",
     "text": [
      "CT scans with normal lung tissue: 4\n"
     ]
    }
   ],
   "source": [
    "scan_paths = [\n",
    "    os.path.join(os.getcwd(), \"sample\", x)\n",
    "    for x in os.listdir(\"sample\")\n",
    "]\n",
    "\n",
    "print(\"CT scans with normal lung tissue: \" + str(len(scan_paths)))"
   ]
  },
  {
   "cell_type": "code",
   "execution_count": 4,
   "id": "a3ad86f0-e871-4afe-8c02-ad3467b7cbef",
   "metadata": {},
   "outputs": [],
   "source": [
    "import random\n",
    "from scipy import ndimage\n",
    "\n",
    "def rotate(volume):\n",
    "    \"\"\"Rotate the volume by a few degrees\"\"\"\n",
    "\n",
    "    def scipy_rotate(volume):\n",
    "        # define some rotation angles\n",
    "        angles = [-20, -10, -5, 5, 10, 20]\n",
    "        # pick angles at random\n",
    "        angle = random.choice(angles)\n",
    "        # rotate volume\n",
    "        #volume = ndimage.rotate(volume, angle, reshape=False)\n",
    "        volume[volume < 0] = 0\n",
    "        volume[volume > 1] = 1\n",
    "        return volume\n",
    "\n",
    "    augmented_volume = tf.numpy_function(scipy_rotate, [volume], tf.float32)\n",
    "    return augmented_volume\n",
    "\n",
    "\n",
    "def train_preprocessing(volume, label):\n",
    "    \"\"\"Process training data by rotating and adding a channel.\"\"\"\n",
    "    # Rotate volume\n",
    "    #volume = rotate(volume)\n",
    "    #volume = tf.expand_dims(volume, axis=3)\n",
    "    return volume, label\n",
    "\n",
    "\n",
    "def validation_preprocessing(volume, label):\n",
    "    \"\"\"Process validation data by only adding a channel.\"\"\"\n",
    "    #volume = tf.expand_dims(volume, axis=3)\n",
    "    return volume, label"
   ]
  },
  {
   "cell_type": "code",
   "execution_count": 5,
   "id": "f41d3276-0666-4bff-a639-e9f66926dc4e",
   "metadata": {},
   "outputs": [
    {
     "name": "stdout",
     "output_type": "stream",
     "text": [
      "[0 0 0 0]\n",
      "Number of samples in train are 4\n"
     ]
    }
   ],
   "source": [
    "# Read and process the scans.\n",
    "# Each scan is resized across height, width, and depth and rescaled.\n",
    "ct_scans = np.array([process_scan(path + '/CT.nii.gz') for path in scan_paths])\n",
    "pet_scans = np.array([process_scan(path + '/PET.nii.gz') for path in scan_paths])\n",
    "mask_scans = np.array([process_scan(path + '/MASK.nii.gz') for path in scan_paths])\n",
    "\n",
    "# For the CT scans having presence of viral pneumonia\n",
    "# assign 1, for the normal ones assign 0.\n",
    "normal_labels = np.array([0 for _ in range(len(ct_scans))])\n",
    "print(normal_labels)\n",
    "\n",
    "# Split data in the ratio 70-30 for training and validation.\n",
    "\n",
    "x_ct = ct_scans\n",
    "y_ct = normal_labels\n",
    "x_pet = pet_scans\n",
    "y_pet = normal_labels\n",
    "x_mask = mask_scans\n",
    "y_mask = normal_labels\n",
    "print(\n",
    "    \"Number of samples in train are %d\"\n",
    "    % (x_ct.shape[0])\n",
    ")"
   ]
  },
  {
   "cell_type": "code",
   "execution_count": 6,
   "id": "ccb59ca1-8f7d-42a6-a98e-d6257f2882a8",
   "metadata": {},
   "outputs": [
    {
     "name": "stdout",
     "output_type": "stream",
     "text": [
      "4\n"
     ]
    },
    {
     "name": "stderr",
     "output_type": "stream",
     "text": [
      "2024-03-25 22:21:09.846004: W tensorflow/core/framework/local_rendezvous.cc:404] Local rendezvous is aborting with status: OUT_OF_RANGE: End of sequence\n"
     ]
    }
   ],
   "source": [
    "# Define data loaders.\n",
    "ct_loader = tf.data.Dataset.from_tensor_slices((x_ct, y_ct))\n",
    "pet_loader = tf.data.Dataset.from_tensor_slices((x_pet, y_pet))\n",
    "mask_loader = tf.data.Dataset.from_tensor_slices((x_mask, y_mask))\n",
    "print(len(list(ct_loader.map(train_preprocessing).batch(1))))\n",
    "\n",
    "batch_size = 1\n",
    "# Augment the on the fly during training.\n",
    "ct_dataset = (\n",
    "    ct_loader#.shuffle(len(x_train))\n",
    "    .map(train_preprocessing)\n",
    "    .batch(batch_size)\n",
    "    .prefetch(4)\n",
    ")\n",
    "pet_dataset = (\n",
    "    pet_loader#.shuffle(len(x_train))\n",
    "    .map(train_preprocessing)\n",
    "    .batch(batch_size)\n",
    "    .prefetch(2)\n",
    ")\n",
    "mask_dataset = (\n",
    "    mask_loader#.shuffle(len(x_train))\n",
    "    .map(train_preprocessing)\n",
    "    .batch(batch_size)\n",
    "    .prefetch(2)\n",
    ")"
   ]
  },
  {
   "cell_type": "markdown",
   "id": "bb1e5672-04b6-4948-b87a-f0cc426c9485",
   "metadata": {},
   "source": [
    "Visualize"
   ]
  },
  {
   "cell_type": "code",
   "execution_count": 7,
   "id": "8b270686-932d-4fca-b065-f6a34a7ca874",
   "metadata": {
    "scrolled": true
   },
   "outputs": [
    {
     "name": "stderr",
     "output_type": "stream",
     "text": [
      "2024-03-25 22:21:39.500112: W tensorflow/core/framework/local_rendezvous.cc:404] Local rendezvous is aborting with status: OUT_OF_RANGE: End of sequence\n"
     ]
    },
    {
     "name": "stdout",
     "output_type": "stream",
     "text": [
      "4\n"
     ]
    },
    {
     "name": "stderr",
     "output_type": "stream",
     "text": [
      "2024-03-25 22:21:39.704537: W tensorflow/core/framework/local_rendezvous.cc:404] Local rendezvous is aborting with status: OUT_OF_RANGE: End of sequence\n",
      "2024-03-25 22:21:39.924051: W tensorflow/core/framework/local_rendezvous.cc:404] Local rendezvous is aborting with status: OUT_OF_RANGE: End of sequence\n",
      "2024-03-25 22:21:41.114434: W tensorflow/core/framework/local_rendezvous.cc:404] Local rendezvous is aborting with status: OUT_OF_RANGE: End of sequence\n",
      "2024-03-25 22:21:42.245404: W tensorflow/core/framework/local_rendezvous.cc:404] Local rendezvous is aborting with status: OUT_OF_RANGE: End of sequence\n"
     ]
    },
    {
     "name": "stdout",
     "output_type": "stream",
     "text": [
      "Dimension of the CT scan is: (350, 350, 250)\n"
     ]
    }
   ],
   "source": [
    "import matplotlib.pyplot as plt\n",
    "import cv2 as cv\n",
    "\n",
    "def plot_slices(num_rows, num_columns, width, height, data_ct, data_pet, data_mask, i):\n",
    "    image_axis = 2\n",
    "    mask = data_mask\n",
    "\n",
    "    #sagital_image = image[60, :, :] # Axis 0\n",
    "    \n",
    "    #axial_image = image[:, :, 30] # Axis 2\n",
    "    #coronal_image = image[:, 60, :] # Axis 1\n",
    "    \n",
    "    step = 5\n",
    "    brk = 0\n",
    "    s = set()\n",
    "    for a in range(0, 350, step):\n",
    "        if brk:\n",
    "            break\n",
    "        for b in range(0, 350, step):\n",
    "            if brk:\n",
    "                break\n",
    "            for c in range(0, 250, step):\n",
    "                if mask[a][b][c]>0.71428575:\n",
    "                    s.add(b)\n",
    "    print(s)\n",
    "\n",
    "    plt.figure(figsize=(350, 250))\n",
    "    plt.style.use('grayscale')\n",
    "    if len(list(s)) == 0:\n",
    "        s.add(175)\n",
    "    for j in range(len(list(s))):\n",
    "        sagital_ct=ct[:,list(s)[j],:] * 0.1\n",
    "        sagital_mask=mask[:,list(s)[j],:]\n",
    "        sagital_pet=pet[:,list(s)[j],:]\n",
    "        cmap1 = plt.cm.viridis  # Choose the colormap for image1\n",
    "        cmap2 = plt.cm.inferno\n",
    "        sagital_ct_jet = cmap1(sagital_ct)[:,:,2]\n",
    "        sagital_pet_gray = cmap2(sagital_pet)[:,:,2]\n",
    "    \n",
    "        print(sagital_ct[60,30])\n",
    "        comb = (0.01 * sagital_ct_jet) + (0.99 * sagital_pet_gray)\n",
    "        plt.imsave('combined'+str(i)+str(j)+'.png',np.rot90(comb))\n",
    "        \n",
    "    #plt.savefig('combined.png')\n",
    "\n",
    "    # for i in range(1, 2):\n",
    "    #     for j in range(1, 5, 4):\n",
    "            # sagital_ct=ct[:,list(s)[0]+(i-1)*(j-1)+j-1,:] * 0.1\n",
    "            # sagital_mask=mask[:,list(s)[0]+(i-1)*(j-1)+j-1,:]\n",
    "            # sagital_pet=pet[:,list(s)[0]+(i-1)*(j-1)+j-1,:]\n",
    "            # plt.subplot(i,5,j)\n",
    "            # plt.imshow(np.rot90(sagital_ct), cmap='viridis')\n",
    "            # plt.title('Sagital Plane')\n",
    "\n",
    "            \n",
    "            # plt.axis('off')\n",
    "            # plt.subplot(i,5,j+1)\n",
    "            # plt.imshow(np.rot90(sagital_mask))\n",
    "            # plt.title('Sagital Plane')\n",
    "            # plt.axis('off')\n",
    "\n",
    "            # plt.axis('off')\n",
    "            # plt.subplot(i,5,j+2)\n",
    "            # plt.imshow(np.rot90(sagital_pet))\n",
    "            # plt.imshow(np.rot90(sagital_pet))\n",
    "            # plt.title('Sagital Plane')\n",
    "            # plt.axis('off')\n",
    "\n",
    "            # cmap1 = plt.cm.viridis  # Choose the colormap for image1\n",
    "            # cmap2 = plt.cm.inferno\n",
    "            # sagital_ct_jet = cmap1(sagital_ct)[:,:,2]\n",
    "            # sagital_pet_gray = cmap2(sagital_pet)[:,:,2]\n",
    "\n",
    "            # print(sagital_ct[60,30])\n",
    "            # comb = (0.01 * sagital_ct_jet) + (0.99 * sagital_pet_gray)\n",
    "            # plt.axis('off')\n",
    "            # plt.subplot(i,5,j+3)\n",
    "            # plt.imshow(np.rot90(comb))\n",
    "            # plt.title('Sagital Plane')\n",
    "            # plt.axis('off')\n",
    "\n",
    "\n",
    "    # plt.subplot(142)\n",
    "    # plt.imshow(np.rot90(axial_image))\n",
    "    # plt.title('Axial Plane')\n",
    "    # plt.axis('off')\n",
    "\n",
    "    # plt.subplot(143)\n",
    "    # plt.imshow(np.rot90(coronal_image))\n",
    "    # plt.title('Coronal Plane')\n",
    "    # plt.axis('off')\n",
    "\n",
    "ct_d = ct_dataset\n",
    "pet_d = pet_dataset\n",
    "mask_d = mask_dataset\n",
    "print(len(list(ct_d)))\n",
    "for ix in range(0, len(list(ct_d))):\n",
    "    cts, labels = list(ct_d)[ix]\n",
    "    pets, labels1 = list(pet_d)[ix]\n",
    "    masks, labels2 = list(mask_d)[ix]\n",
    "    \n",
    "    cts = cts.numpy()\n",
    "    ct = cts[0]\n",
    "    pets = pets.numpy()\n",
    "    pet = pets[0]\n",
    "    mask = masks.numpy()\n",
    "    mask = masks[0]\n",
    "    print(\"Dimension of the CT scan is:\", ct.shape)\n",
    "    \n",
    "    plot_slices(4, 10, 350, 350, ct, pet, mask, ix)"
   ]
  },
  {
   "cell_type": "code",
   "execution_count": null,
   "id": "ce413310-108a-4b58-a2c5-ea6228c68cb5",
   "metadata": {},
   "outputs": [],
   "source": []
  }
 ],
 "metadata": {
  "kernelspec": {
   "display_name": "Python 3 (ipykernel)",
   "language": "python",
   "name": "python3"
  },
  "language_info": {
   "codemirror_mode": {
    "name": "ipython",
    "version": 3
   },
   "file_extension": ".py",
   "mimetype": "text/x-python",
   "name": "python",
   "nbconvert_exporter": "python",
   "pygments_lexer": "ipython3",
   "version": "3.9.19"
  }
 },
 "nbformat": 4,
 "nbformat_minor": 5
}
